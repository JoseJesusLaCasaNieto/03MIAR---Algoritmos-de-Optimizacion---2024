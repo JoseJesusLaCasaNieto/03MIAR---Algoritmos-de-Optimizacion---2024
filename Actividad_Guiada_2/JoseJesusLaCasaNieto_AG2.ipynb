{
  "nbformat": 4,
  "nbformat_minor": 0,
  "metadata": {
    "colab": {
      "provenance": []
    },
    "kernelspec": {
      "name": "python3",
      "display_name": "Python 3"
    },
    "language_info": {
      "name": "python"
    }
  },
  "cells": [
    {
      "cell_type": "markdown",
      "source": [
        "<h1>Actividad Guiada 2 de Algoritmos de Optimización<h1>\n",
        "\n",
        "Nombre: José Jesús La Casa Nieto\n",
        "\n",
        "https://colab.research.google.com/drive/1kfePX_O7XSBWQTjjJuIqKtSSLdmPy5M2?usp=sharing\n",
        "\n",
        "https://github.com/JoseJesusLaCasaNieto/03MIAR---Algoritmos-de-Optimizacion---2024"
      ],
      "metadata": {
        "id": "JjGEeAa1Amoq"
      }
    },
    {
      "cell_type": "code",
      "source": [
        "import math"
      ],
      "metadata": {
        "id": "Tl6lkOUdBDko"
      },
      "execution_count": 1,
      "outputs": []
    },
    {
      "cell_type": "code",
      "source": [
        "# Viaje por el río - Programación dinámica\n",
        "\n",
        "TARIFAS = [\n",
        "[0, 5, 4, 3, float(\"inf\"), float(\"inf\"), float(\"inf\")],\n",
        "[float(\"inf\"), 0, float(\"inf\"), 2, 3, float(\"inf\"), 11],\n",
        "[float(\"inf\"), float(\"inf\"), 0, 1, float(\"inf\"), 4, 10],\n",
        "[float(\"inf\"), float(\"inf\"), float(\"inf\"), 0, 5, 6, 9],\n",
        "[float(\"inf\"), float(\"inf\"), float(\"inf\"), float(\"inf\"), 0, float(\"inf\"), 4],\n",
        "[float(\"inf\"), float(\"inf\"), float(\"inf\"), float(\"inf\"), float(\"inf\"), 0, 3],\n",
        "[float(\"inf\"), float(\"inf\"), float(\"inf\"), float(\"inf\"), float(\"inf\"), float(\"inf\"), 0]\n",
        "]\n",
        "\n",
        "TARIFAS"
      ],
      "metadata": {
        "colab": {
          "base_uri": "https://localhost:8080/"
        },
        "id": "Go-G8hYIBiR1",
        "outputId": "706e441e-9f76-42db-b63a-dd917b784114"
      },
      "execution_count": 3,
      "outputs": [
        {
          "output_type": "execute_result",
          "data": {
            "text/plain": [
              "[[0, 5, 4, 3, inf, inf, inf],\n",
              " [inf, 0, inf, 2, 3, inf, 11],\n",
              " [inf, inf, 0, 1, inf, 4, 10],\n",
              " [inf, inf, inf, 0, 5, 6, 9],\n",
              " [inf, inf, inf, inf, 0, inf, 4],\n",
              " [inf, inf, inf, inf, inf, 0, 3],\n",
              " [inf, inf, inf, inf, inf, inf, 0]]"
            ]
          },
          "metadata": {},
          "execution_count": 3
        }
      ]
    },
    {
      "cell_type": "code",
      "source": [
        "def Precios(TARIFAS):\n",
        "  N = len(TARIFAS[0])\n",
        "\n",
        "  PRECIOS = [[9999]*N for i in [9999]*N]\n",
        "  RUTA = [[\"\"]*N for i in [\"\"]*N]\n",
        "\n",
        "  for i in range(N-1):\n",
        "    for j in range(i+1, N):\n",
        "      MIN = TARIFAS[i][j]\n",
        "      RUTA[i][j] = i\n",
        "\n",
        "      for k in range(i, j):\n",
        "        if PRECIOS[i][k] + TARIFAS[k][j] < MIN:\n",
        "            MIN = min(MIN, PRECIOS[i][k] + TARIFAS[k][j] )\n",
        "            RUTA[i][j] = k\n",
        "        PRECIOS[i][j] = MIN\n",
        "\n",
        "  return PRECIOS, RUTA"
      ],
      "metadata": {
        "id": "3ZfhWv3AFmKW"
      },
      "execution_count": 12,
      "outputs": []
    },
    {
      "cell_type": "code",
      "source": [
        "PRECIOS,RUTA = Precios(TARIFAS)\n",
        "\n",
        "print(\"PRECIOS\")\n",
        "for i in range(len(TARIFAS)):\n",
        "  print(PRECIOS[i])\n",
        "\n",
        "print(\"\\nRUTA\")\n",
        "for i in range(len(TARIFAS)):\n",
        "  print(RUTA[i])"
      ],
      "metadata": {
        "colab": {
          "base_uri": "https://localhost:8080/"
        },
        "id": "0fVxo9JkHu8Z",
        "outputId": "85d1fb20-a8b5-45b2-cca9-2ddcd56f298c"
      },
      "execution_count": 13,
      "outputs": [
        {
          "output_type": "stream",
          "name": "stdout",
          "text": [
            "PRECIOS\n",
            "[9999, 5, 4, 3, 8, 8, 11]\n",
            "[9999, 9999, inf, 2, 3, 8, 7]\n",
            "[9999, 9999, 9999, 1, 6, 4, 7]\n",
            "[9999, 9999, 9999, 9999, 5, 6, 9]\n",
            "[9999, 9999, 9999, 9999, 9999, inf, 4]\n",
            "[9999, 9999, 9999, 9999, 9999, 9999, 3]\n",
            "[9999, 9999, 9999, 9999, 9999, 9999, 9999]\n",
            "\n",
            "RUTA\n",
            "['', 0, 0, 0, 1, 2, 5]\n",
            "['', '', 1, 1, 1, 3, 4]\n",
            "['', '', '', 2, 3, 2, 5]\n",
            "['', '', '', '', 3, 3, 3]\n",
            "['', '', '', '', '', 4, 4]\n",
            "['', '', '', '', '', '', 5]\n",
            "['', '', '', '', '', '', '']\n"
          ]
        }
      ]
    },
    {
      "cell_type": "code",
      "source": [
        "def calcular_ruta(RUTA, desde, hasta):\n",
        "  if desde == RUTA[desde][hasta]:\n",
        "    return desde\n",
        "  else:\n",
        "    return str(calcular_ruta(RUTA, desde, RUTA[desde][hasta])) +  ',' + str(RUTA[desde][hasta])\n",
        "\n",
        "print(\"\\nLa ruta es:\")\n",
        "calcular_ruta(RUTA, 0, 6)"
      ],
      "metadata": {
        "colab": {
          "base_uri": "https://localhost:8080/",
          "height": 70
        },
        "id": "qrIx7t5AH-c1",
        "outputId": "159859f9-dea9-4622-d2a4-55cf25d434f7"
      },
      "execution_count": 14,
      "outputs": [
        {
          "output_type": "stream",
          "name": "stdout",
          "text": [
            "\n",
            "La ruta es:\n"
          ]
        },
        {
          "output_type": "execute_result",
          "data": {
            "text/plain": [
              "'0,2,5'"
            ],
            "application/vnd.google.colaboratory.intrinsic+json": {
              "type": "string"
            }
          },
          "metadata": {},
          "execution_count": 14
        }
      ]
    }
  ]
}