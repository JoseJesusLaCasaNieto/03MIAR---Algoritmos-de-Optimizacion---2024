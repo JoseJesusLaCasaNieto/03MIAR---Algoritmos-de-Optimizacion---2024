{
  "nbformat": 4,
  "nbformat_minor": 0,
  "metadata": {
    "colab": {
      "provenance": []
    },
    "kernelspec": {
      "name": "python3",
      "display_name": "Python 3"
    },
    "language_info": {
      "name": "python"
    }
  },
  "cells": [
    {
      "cell_type": "markdown",
      "source": [
        "<h1>Actividad Guiada 1 de Algoritmos de Optimización<h1>\n",
        "\n",
        "Nombre: José Jesús La Casa Nieto\n",
        "\n",
        "https://colab.research.google.com/drive/1dEq5PFVTicwJ6ska-QXuCuaboI2nmV6Z?usp=sharing\n",
        "\n",
        "https://github.com/JoseJesusLaCasaNieto/03MIAR---Algoritmos-de-Optimizacion---2024"
      ],
      "metadata": {
        "id": "oLLaRYj80zK_"
      }
    },
    {
      "cell_type": "markdown",
      "source": [
        "#### Torres de Hanoi - Divide y vencerás"
      ],
      "metadata": {
        "id": "1m6ECDwgk5un"
      }
    },
    {
      "cell_type": "code",
      "source": [
        "# Torres de Hanoi - Divide y vencerás\n",
        "\n",
        "def Torres_Hanoi(N, desde, hasta):\n",
        "  if N == 1:\n",
        "    print(\"Lleva la ficha desde \" + str(desde) + \" hasta \" + str(hasta))\n",
        "  else:\n",
        "    Torres_Hanoi(N-1, desde, 6-desde-hasta)\n",
        "    print(\"Lleva la ficha desde \" + str(desde) + \" hasta \" + str(hasta))\n",
        "    Torres_Hanoi(N-1, 6-desde-hasta, hasta)\n",
        "\n",
        "Torres_Hanoi(6, 1, 3)"
      ],
      "metadata": {
        "colab": {
          "base_uri": "https://localhost:8080/"
        },
        "id": "59clMD9608w4",
        "outputId": "0225570e-6361-46cf-8fb6-c91723e0a625"
      },
      "execution_count": null,
      "outputs": [
        {
          "output_type": "stream",
          "name": "stdout",
          "text": [
            "Lleva la ficha desde 1 hasta 2\n",
            "Lleva la ficha desde 1 hasta 3\n",
            "Lleva la ficha desde 2 hasta 3\n",
            "Lleva la ficha desde 1 hasta 2\n",
            "Lleva la ficha desde 3 hasta 1\n",
            "Lleva la ficha desde 3 hasta 2\n",
            "Lleva la ficha desde 1 hasta 2\n",
            "Lleva la ficha desde 1 hasta 3\n",
            "Lleva la ficha desde 2 hasta 3\n",
            "Lleva la ficha desde 2 hasta 1\n",
            "Lleva la ficha desde 3 hasta 1\n",
            "Lleva la ficha desde 2 hasta 3\n",
            "Lleva la ficha desde 1 hasta 2\n",
            "Lleva la ficha desde 1 hasta 3\n",
            "Lleva la ficha desde 2 hasta 3\n",
            "Lleva la ficha desde 1 hasta 2\n",
            "Lleva la ficha desde 3 hasta 1\n",
            "Lleva la ficha desde 3 hasta 2\n",
            "Lleva la ficha desde 1 hasta 2\n",
            "Lleva la ficha desde 3 hasta 1\n",
            "Lleva la ficha desde 2 hasta 3\n",
            "Lleva la ficha desde 2 hasta 1\n",
            "Lleva la ficha desde 3 hasta 1\n",
            "Lleva la ficha desde 3 hasta 2\n",
            "Lleva la ficha desde 1 hasta 2\n",
            "Lleva la ficha desde 1 hasta 3\n",
            "Lleva la ficha desde 2 hasta 3\n",
            "Lleva la ficha desde 1 hasta 2\n",
            "Lleva la ficha desde 3 hasta 1\n",
            "Lleva la ficha desde 3 hasta 2\n",
            "Lleva la ficha desde 1 hasta 2\n",
            "Lleva la ficha desde 1 hasta 3\n",
            "Lleva la ficha desde 2 hasta 3\n",
            "Lleva la ficha desde 2 hasta 1\n",
            "Lleva la ficha desde 3 hasta 1\n",
            "Lleva la ficha desde 2 hasta 3\n",
            "Lleva la ficha desde 1 hasta 2\n",
            "Lleva la ficha desde 1 hasta 3\n",
            "Lleva la ficha desde 2 hasta 3\n",
            "Lleva la ficha desde 2 hasta 1\n",
            "Lleva la ficha desde 3 hasta 1\n",
            "Lleva la ficha desde 3 hasta 2\n",
            "Lleva la ficha desde 1 hasta 2\n",
            "Lleva la ficha desde 3 hasta 1\n",
            "Lleva la ficha desde 2 hasta 3\n",
            "Lleva la ficha desde 2 hasta 1\n",
            "Lleva la ficha desde 3 hasta 1\n",
            "Lleva la ficha desde 2 hasta 3\n",
            "Lleva la ficha desde 1 hasta 2\n",
            "Lleva la ficha desde 1 hasta 3\n",
            "Lleva la ficha desde 2 hasta 3\n",
            "Lleva la ficha desde 1 hasta 2\n",
            "Lleva la ficha desde 3 hasta 1\n",
            "Lleva la ficha desde 3 hasta 2\n",
            "Lleva la ficha desde 1 hasta 2\n",
            "Lleva la ficha desde 1 hasta 3\n",
            "Lleva la ficha desde 2 hasta 3\n",
            "Lleva la ficha desde 2 hasta 1\n",
            "Lleva la ficha desde 3 hasta 1\n",
            "Lleva la ficha desde 2 hasta 3\n",
            "Lleva la ficha desde 1 hasta 2\n",
            "Lleva la ficha desde 1 hasta 3\n",
            "Lleva la ficha desde 2 hasta 3\n"
          ]
        }
      ]
    },
    {
      "cell_type": "markdown",
      "source": [
        "#### Cambio de monedas - Técnica voraz"
      ],
      "metadata": {
        "id": "bKQgEedLlDnm"
      }
    },
    {
      "cell_type": "code",
      "source": [
        "# Cambio de monedas - Técnica voraz\n",
        "\n",
        "SISTEMA = [25, 10, 5, 1]\n",
        "\n",
        "def cambio_monedas(CANTIDAD, SISTEMA):\n",
        "  SOLUCION = [0] * len(SISTEMA)\n",
        "  ValorAcumulado = 0\n",
        "\n",
        "  for i, valor in enumerate(SISTEMA):\n",
        "    monedas = (CANTIDAD-ValorAcumulado) // valor\n",
        "    SOLUCION[i] = monedas\n",
        "    ValorAcumulado = ValorAcumulado + monedas * valor\n",
        "\n",
        "    if CANTIDAD == ValorAcumulado:\n",
        "      return SOLUCION\n",
        "\n",
        "  print(\"No es posible encontrar solución\")\n",
        "\n",
        "cambio_monedas(37, SISTEMA)"
      ],
      "metadata": {
        "colab": {
          "base_uri": "https://localhost:8080/"
        },
        "id": "klTHN3CU5gwQ",
        "outputId": "9aca8f79-ba8e-448e-da33-cc8d9d0518a0"
      },
      "execution_count": null,
      "outputs": [
        {
          "output_type": "execute_result",
          "data": {
            "text/plain": [
              "[1, 1, 0, 2]"
            ]
          },
          "metadata": {},
          "execution_count": 8
        }
      ]
    },
    {
      "cell_type": "markdown",
      "source": [
        "#### N Reinas - Vuelta atrás"
      ],
      "metadata": {
        "id": "QKEZrdt1lZ2O"
      }
    },
    {
      "cell_type": "code",
      "source": [
        "# N Reinas - Vuelta atrás\n",
        "\n",
        "# Verifica que en la solución parcial no hay amenazas entre reinas\n",
        "def es_prometedora(SOLUCION, etapa):\n",
        "  for i in range(etapa + 1):\n",
        "    if SOLUCION.count(SOLUCION[i]) > 1:\n",
        "      return False\n",
        "\n",
        "    for j in range(i+1, etapa+1):\n",
        "      if abs(i - j) == abs(SOLUCION[i] - SOLUCION[j]):\n",
        "        return False\n",
        "  return True\n",
        "\n",
        "# Traduce la solución al tablero\n",
        "def escribe_solucion(S):\n",
        "  n = len(S)\n",
        "  for x in range(n):\n",
        "    print(\"\")\n",
        "    for i in range(n):\n",
        "      if S[i] == x + 1:\n",
        "        print(\" X \", end=\"\")\n",
        "      else:\n",
        "        print(\" - \", end=\"\")\n",
        "\n",
        "# Proceso principal de N-Reinas\n",
        "def reinas(N, solucion=[], etapa=0):\n",
        "  if len(solucion) == 0:\n",
        "    solucion = [0 for i in range(N)]\n",
        "\n",
        "  for i in range(1, N+1):\n",
        "    solucion[etapa] = i\n",
        "    if es_prometedora(solucion, etapa):\n",
        "      if etapa == N - 1:\n",
        "        print(solucion)\n",
        "      else:\n",
        "        reinas(N, solucion, etapa+1)\n",
        "    else:\n",
        "      None\n",
        "\n",
        "  solucion[etapa] = 0\n",
        "\n",
        "reinas(8, solucion=[], etapa=0)"
      ],
      "metadata": {
        "colab": {
          "base_uri": "https://localhost:8080/"
        },
        "id": "JOQmGx_K76r0",
        "outputId": "beef635e-d21e-4d7b-9ad7-0a30697272b5"
      },
      "execution_count": null,
      "outputs": [
        {
          "output_type": "stream",
          "name": "stdout",
          "text": [
            "[1, 5, 8, 6, 3, 7, 2, 4]\n",
            "[1, 6, 8, 3, 7, 4, 2, 5]\n",
            "[1, 7, 4, 6, 8, 2, 5, 3]\n",
            "[1, 7, 5, 8, 2, 4, 6, 3]\n",
            "[2, 4, 6, 8, 3, 1, 7, 5]\n",
            "[2, 5, 7, 1, 3, 8, 6, 4]\n",
            "[2, 5, 7, 4, 1, 8, 6, 3]\n",
            "[2, 6, 1, 7, 4, 8, 3, 5]\n",
            "[2, 6, 8, 3, 1, 4, 7, 5]\n",
            "[2, 7, 3, 6, 8, 5, 1, 4]\n",
            "[2, 7, 5, 8, 1, 4, 6, 3]\n",
            "[2, 8, 6, 1, 3, 5, 7, 4]\n",
            "[3, 1, 7, 5, 8, 2, 4, 6]\n",
            "[3, 5, 2, 8, 1, 7, 4, 6]\n",
            "[3, 5, 2, 8, 6, 4, 7, 1]\n",
            "[3, 5, 7, 1, 4, 2, 8, 6]\n",
            "[3, 5, 8, 4, 1, 7, 2, 6]\n",
            "[3, 6, 2, 5, 8, 1, 7, 4]\n",
            "[3, 6, 2, 7, 1, 4, 8, 5]\n",
            "[3, 6, 2, 7, 5, 1, 8, 4]\n",
            "[3, 6, 4, 1, 8, 5, 7, 2]\n",
            "[3, 6, 4, 2, 8, 5, 7, 1]\n",
            "[3, 6, 8, 1, 4, 7, 5, 2]\n",
            "[3, 6, 8, 1, 5, 7, 2, 4]\n",
            "[3, 6, 8, 2, 4, 1, 7, 5]\n",
            "[3, 7, 2, 8, 5, 1, 4, 6]\n",
            "[3, 7, 2, 8, 6, 4, 1, 5]\n",
            "[3, 8, 4, 7, 1, 6, 2, 5]\n",
            "[4, 1, 5, 8, 2, 7, 3, 6]\n",
            "[4, 1, 5, 8, 6, 3, 7, 2]\n",
            "[4, 2, 5, 8, 6, 1, 3, 7]\n",
            "[4, 2, 7, 3, 6, 8, 1, 5]\n",
            "[4, 2, 7, 3, 6, 8, 5, 1]\n",
            "[4, 2, 7, 5, 1, 8, 6, 3]\n",
            "[4, 2, 8, 5, 7, 1, 3, 6]\n",
            "[4, 2, 8, 6, 1, 3, 5, 7]\n",
            "[4, 6, 1, 5, 2, 8, 3, 7]\n",
            "[4, 6, 8, 2, 7, 1, 3, 5]\n",
            "[4, 6, 8, 3, 1, 7, 5, 2]\n",
            "[4, 7, 1, 8, 5, 2, 6, 3]\n",
            "[4, 7, 3, 8, 2, 5, 1, 6]\n",
            "[4, 7, 5, 2, 6, 1, 3, 8]\n",
            "[4, 7, 5, 3, 1, 6, 8, 2]\n",
            "[4, 8, 1, 3, 6, 2, 7, 5]\n",
            "[4, 8, 1, 5, 7, 2, 6, 3]\n",
            "[4, 8, 5, 3, 1, 7, 2, 6]\n",
            "[5, 1, 4, 6, 8, 2, 7, 3]\n",
            "[5, 1, 8, 4, 2, 7, 3, 6]\n",
            "[5, 1, 8, 6, 3, 7, 2, 4]\n",
            "[5, 2, 4, 6, 8, 3, 1, 7]\n",
            "[5, 2, 4, 7, 3, 8, 6, 1]\n",
            "[5, 2, 6, 1, 7, 4, 8, 3]\n",
            "[5, 2, 8, 1, 4, 7, 3, 6]\n",
            "[5, 3, 1, 6, 8, 2, 4, 7]\n",
            "[5, 3, 1, 7, 2, 8, 6, 4]\n",
            "[5, 3, 8, 4, 7, 1, 6, 2]\n",
            "[5, 7, 1, 3, 8, 6, 4, 2]\n",
            "[5, 7, 1, 4, 2, 8, 6, 3]\n",
            "[5, 7, 2, 4, 8, 1, 3, 6]\n",
            "[5, 7, 2, 6, 3, 1, 4, 8]\n",
            "[5, 7, 2, 6, 3, 1, 8, 4]\n",
            "[5, 7, 4, 1, 3, 8, 6, 2]\n",
            "[5, 8, 4, 1, 3, 6, 2, 7]\n",
            "[5, 8, 4, 1, 7, 2, 6, 3]\n",
            "[6, 1, 5, 2, 8, 3, 7, 4]\n",
            "[6, 2, 7, 1, 3, 5, 8, 4]\n",
            "[6, 2, 7, 1, 4, 8, 5, 3]\n",
            "[6, 3, 1, 7, 5, 8, 2, 4]\n",
            "[6, 3, 1, 8, 4, 2, 7, 5]\n",
            "[6, 3, 1, 8, 5, 2, 4, 7]\n",
            "[6, 3, 5, 7, 1, 4, 2, 8]\n",
            "[6, 3, 5, 8, 1, 4, 2, 7]\n",
            "[6, 3, 7, 2, 4, 8, 1, 5]\n",
            "[6, 3, 7, 2, 8, 5, 1, 4]\n",
            "[6, 3, 7, 4, 1, 8, 2, 5]\n",
            "[6, 4, 1, 5, 8, 2, 7, 3]\n",
            "[6, 4, 2, 8, 5, 7, 1, 3]\n",
            "[6, 4, 7, 1, 3, 5, 2, 8]\n",
            "[6, 4, 7, 1, 8, 2, 5, 3]\n",
            "[6, 8, 2, 4, 1, 7, 5, 3]\n",
            "[7, 1, 3, 8, 6, 4, 2, 5]\n",
            "[7, 2, 4, 1, 8, 5, 3, 6]\n",
            "[7, 2, 6, 3, 1, 4, 8, 5]\n",
            "[7, 3, 1, 6, 8, 5, 2, 4]\n",
            "[7, 3, 8, 2, 5, 1, 6, 4]\n",
            "[7, 4, 2, 5, 8, 1, 3, 6]\n",
            "[7, 4, 2, 8, 6, 1, 3, 5]\n",
            "[7, 5, 3, 1, 6, 8, 2, 4]\n",
            "[8, 2, 4, 1, 7, 5, 3, 6]\n",
            "[8, 2, 5, 3, 1, 7, 4, 6]\n",
            "[8, 3, 1, 6, 2, 5, 7, 4]\n",
            "[8, 4, 1, 3, 6, 2, 7, 5]\n"
          ]
        }
      ]
    },
    {
      "cell_type": "code",
      "source": [
        "escribe_solucion([1, 5, 8, 6, 3, 7, 2, 4])"
      ],
      "metadata": {
        "colab": {
          "base_uri": "https://localhost:8080/"
        },
        "id": "onzenNnL_TqG",
        "outputId": "cf7f0403-f806-49aa-8ef5-126c34a99ee3"
      },
      "execution_count": null,
      "outputs": [
        {
          "output_type": "stream",
          "name": "stdout",
          "text": [
            "\n",
            " X  -  -  -  -  -  -  - \n",
            " -  -  -  -  -  -  X  - \n",
            " -  -  -  -  X  -  -  - \n",
            " -  -  -  -  -  -  -  X \n",
            " -  X  -  -  -  -  -  - \n",
            " -  -  -  X  -  -  -  - \n",
            " -  -  -  -  -  X  -  - \n",
            " -  -  X  -  -  -  -  - "
          ]
        }
      ]
    },
    {
      "cell_type": "markdown",
      "source": [
        "#### Viaje por el río - Programación dinámica"
      ],
      "metadata": {
        "id": "SCRknOwYqmbf"
      }
    },
    {
      "cell_type": "code",
      "source": [
        "# Viaje por el río - Programación dinámica\n",
        "\n",
        "TARIFAS = [\n",
        "    [0, 5, 4, 3, 999, 999, 999],\n",
        "    [999, 0, 999, 2, 3, 999, 11],\n",
        "    [999, 999, 0, 1, 999, 4, 10],\n",
        "    [999, 999, 999, 0, 5, 6, 9],\n",
        "    [999, 999, 999, 999, 0, 999, 4],\n",
        "    [999, 999, 999, 999, 999, 0, 3],\n",
        "    [999, 999, 999, 999, 999, 999, 0]\n",
        "]\n",
        "\n",
        "# Cálculo de la matriz PRECIOS y RUTAS\n",
        "def Precios(TARIFAS):\n",
        "  N = len(TARIFAS[0])\n",
        "  PRECIOS = [[9999] * N for i in [9999] * N]\n",
        "  RUTA = [[\"\"] * N for i in [\"\"] * N]\n",
        "\n",
        "  for i in range(0, N-1):\n",
        "    RUTA[i][i] = i\n",
        "    PRECIOS[i][i] = 0\n",
        "    for j in range(i+1, N):\n",
        "      MIN = TARIFAS[i][j]\n",
        "      RUTA[i][j] = i\n",
        "      for k in range(i, j):\n",
        "        if PRECIOS[i][k] + TARIFAS[k][j] < MIN:\n",
        "          MIN = min(MIN, PRECIOS[i][k] + TARIFAS[k][j])\n",
        "          RUTA[i][j] = k\n",
        "        PRECIOS[i][j] = MIN\n",
        "\n",
        "  return PRECIOS, RUTA\n",
        "\n",
        "PRECIOS, RUTA = Precios(TARIFAS)\n",
        "\n",
        "print(\"PRECIOS\")\n",
        "for i in range(len(TARIFAS)):\n",
        "  print(PRECIOS[i])\n",
        "\n",
        "print(\"\\nRUTA\")\n",
        "for i in range(len(TARIFAS)):\n",
        "  print(RUTA[i])\n",
        "\n",
        "def calcular_ruta(RUTA, desde, hasta):\n",
        "  if desde == hasta:\n",
        "    return \"\"\n",
        "  else:\n",
        "    return str(calcular_ruta(RUTA, desde, RUTA[desde][hasta])) + ',' + str(RUTA[desde][hasta])\n",
        "\n",
        "print(\"\\nLa ruta es:\")\n",
        "calcular_ruta(RUTA, 0, 6)"
      ],
      "metadata": {
        "colab": {
          "base_uri": "https://localhost:8080/",
          "height": 365
        },
        "id": "Mz2sn3xT_UIE",
        "outputId": "cbf3dc34-eb94-4317-abe2-9fb893fc761e"
      },
      "execution_count": null,
      "outputs": [
        {
          "output_type": "stream",
          "name": "stdout",
          "text": [
            "PRECIOS\n",
            "[0, 5, 4, 3, 8, 8, 11]\n",
            "[9999, 0, 999, 2, 3, 8, 7]\n",
            "[9999, 9999, 0, 1, 6, 4, 7]\n",
            "[9999, 9999, 9999, 0, 5, 6, 9]\n",
            "[9999, 9999, 9999, 9999, 0, 999, 4]\n",
            "[9999, 9999, 9999, 9999, 9999, 0, 3]\n",
            "[9999, 9999, 9999, 9999, 9999, 9999, 9999]\n",
            "\n",
            "RUTA\n",
            "[0, 0, 0, 0, 1, 2, 5]\n",
            "['', 1, 1, 1, 1, 3, 4]\n",
            "['', '', 2, 2, 3, 2, 5]\n",
            "['', '', '', 3, 3, 3, 3]\n",
            "['', '', '', '', 4, 4, 4]\n",
            "['', '', '', '', '', 5, 5]\n",
            "['', '', '', '', '', '', '']\n",
            "\n",
            "La ruta es:\n"
          ]
        },
        {
          "output_type": "execute_result",
          "data": {
            "text/plain": [
              "',0,2,5'"
            ],
            "application/vnd.google.colaboratory.intrinsic+json": {
              "type": "string"
            }
          },
          "metadata": {},
          "execution_count": 11
        }
      ]
    },
    {
      "cell_type": "markdown",
      "source": [
        "#### Práctica individual - Encontrar los dos puntos más cercanos"
      ],
      "metadata": {
        "id": "PiIEfEbbqrHZ"
      }
    },
    {
      "cell_type": "code",
      "source": [
        "# Lista de números 1D - Fuerza bruta\n",
        "\n",
        "import random\n",
        "\n",
        "def numeros_mas_cercanos_fuerza_bruta(lista):\n",
        "    min_diferencia = float('inf')\n",
        "    numeros_cercanos = None, None\n",
        "\n",
        "    for i in range(len(lista)):\n",
        "        for j in range(i + 1, len(lista)):\n",
        "            diferencia = abs(lista[i] - lista[j])\n",
        "            if diferencia < min_diferencia:\n",
        "                min_diferencia = diferencia\n",
        "                numeros_cercanos = lista[i], lista[j]\n",
        "\n",
        "    return min_diferencia, numeros_cercanos\n",
        "\n",
        "lst = [random.randrange(1, 10000) for x in range(100)]\n",
        "distancia_minima, par_puntos = numeros_mas_cercanos_fuerza_bruta(lst)\n",
        "print(\"Distancia mínima entre dos puntos:\", distancia_minima)\n",
        "print(\"Los dos puntos más cercanos son:\", par_puntos)"
      ],
      "metadata": {
        "colab": {
          "base_uri": "https://localhost:8080/"
        },
        "id": "BTUOKpY3quX7",
        "outputId": "fa34a6f6-c7fc-45f4-e61a-f26c482b3a18"
      },
      "execution_count": 40,
      "outputs": [
        {
          "output_type": "stream",
          "name": "stdout",
          "text": [
            "Distancia mínima entre dos puntos: 2\n",
            "Los dos puntos más cercanos son: (5491, 5493)\n"
          ]
        }
      ]
    },
    {
      "cell_type": "markdown",
      "source": [
        "El orden de complejidad del algoritmo de fuerza bruta en nuestro caso es de O(n^2).\n",
        "\n",
        "Este algoritmo se vuelve ineficiente para grandes conjuntos de datos por su complejidad cuadrática. Para mejorarlo, deberíamos usar otros algoritmos."
      ],
      "metadata": {
        "id": "F7kz8q0O2W3_"
      }
    },
    {
      "cell_type": "code",
      "source": [
        "# Lista de números 1D - Divide y vencerás\n",
        "\n",
        "import math\n",
        "import random\n",
        "\n",
        "def distancia(p1, p2):\n",
        "    return abs(p1 - p2)\n",
        "\n",
        "def distancia_minima_divide_y_venceras(puntos):\n",
        "    puntos_ordenados = sorted(puntos)\n",
        "    return distancia_minima_divide_y_venceras_recursiva(puntos_ordenados)\n",
        "\n",
        "def distancia_minima_divide_y_venceras_recursiva(puntos):\n",
        "    n = len(puntos)\n",
        "    if n <= 3:\n",
        "        return distancia_minima_fuerza_bruta(puntos)\n",
        "\n",
        "    medio = n // 2\n",
        "    punto_medio = puntos[medio]\n",
        "\n",
        "    izquierda = puntos[:medio]\n",
        "    derecha = puntos[medio:]\n",
        "\n",
        "    distancia_izquierda, par_izquierda = distancia_minima_divide_y_venceras_recursiva(izquierda)\n",
        "    distancia_derecha, par_derecha = distancia_minima_divide_y_venceras_recursiva(derecha)\n",
        "\n",
        "    distancia_minima = min(distancia_izquierda, distancia_derecha)\n",
        "    par_minimo = par_izquierda if distancia_minima == distancia_izquierda else par_derecha\n",
        "\n",
        "    franja_central = [punto for punto in puntos if abs(punto - punto_medio) < distancia_minima]\n",
        "    distancia_franja, par_franja = distancia_minima_franja(franja_central, distancia_minima)\n",
        "\n",
        "    if distancia_franja < distancia_minima:\n",
        "        return distancia_franja, par_franja\n",
        "    else:\n",
        "        return distancia_minima, par_minimo\n",
        "\n",
        "def distancia_minima_franja(franja_central, distancia_minima):\n",
        "    franja_central.sort()\n",
        "    n = len(franja_central)\n",
        "    minima_distancia = distancia_minima\n",
        "    par_minimo = None\n",
        "\n",
        "    for i in range(n):\n",
        "        for j in range(i+1, min(i+8, n)):\n",
        "            if abs(franja_central[j] - franja_central[i]) < minima_distancia:\n",
        "                minima_distancia = distancia(franja_central[i], franja_central[j])\n",
        "                par_minimo = (franja_central[i], franja_central[j])\n",
        "\n",
        "    return minima_distancia, par_minimo\n",
        "\n",
        "def distancia_minima_fuerza_bruta(puntos):\n",
        "    minima_distancia = float('inf')\n",
        "    n = len(puntos)\n",
        "    par_minimo = None\n",
        "\n",
        "    for i in range(n):\n",
        "        for j in range(i+1, n):\n",
        "            if abs(puntos[j] - puntos[i]) < minima_distancia:\n",
        "                minima_distancia = distancia(puntos[i], puntos[j])\n",
        "                par_minimo = (puntos[i], puntos[j])\n",
        "\n",
        "    return minima_distancia, par_minimo\n",
        "\n",
        "puntos = [random.randrange(1, 100000) for x in range(100)]\n",
        "distancia_minima, par_puntos = distancia_minima_divide_y_venceras(puntos)\n",
        "print(\"Distancia mínima entre dos puntos:\", distancia_minima)\n",
        "print(\"Los dos puntos más cercanos son:\", par_puntos)"
      ],
      "metadata": {
        "colab": {
          "base_uri": "https://localhost:8080/"
        },
        "id": "pcBm1xvL2eYR",
        "outputId": "2ec4b795-9fb9-4c9c-ae5d-5b05d44bd809"
      },
      "execution_count": 32,
      "outputs": [
        {
          "output_type": "stream",
          "name": "stdout",
          "text": [
            "Distancia mínima entre dos puntos: 9\n",
            "Los dos puntos más cercanos son: (25453, 25462)\n"
          ]
        }
      ]
    },
    {
      "cell_type": "markdown",
      "source": [
        "El orden de complejidad del algoritmo divide y vencerás es de O(n.log(n)).\n",
        "\n",
        "Para este caso, hay distintas maneras de mejorar el algoritmo. Por un lado, se podría optimizar la búsqueda en la franja central, utilizando una técnica de vecinos más cercanos. Otra opción, es eliminar los puntos que sean innecesarios de la franja central. Por último, se podrían utilizar librerías externas que realicen el trabajo de forma más óptima."
      ],
      "metadata": {
        "id": "5ZY5Jhbd24fW"
      }
    },
    {
      "cell_type": "code",
      "source": [
        "# Lista de números 2D - Divide y vencerás\n",
        "\n",
        "import math\n",
        "import random\n",
        "\n",
        "def distancia(p1, p2):\n",
        "    return math.sqrt((p1[0] - p2[0])**2 + (p1[1] - p2[1])**2)\n",
        "\n",
        "def distancia_minima_divide_y_venceras(puntos):\n",
        "    puntos_ordenados_x = sorted(puntos, key=lambda x: x[0])\n",
        "    return distancia_minima_divide_y_venceras_recursiva(puntos_ordenados_x)\n",
        "\n",
        "def distancia_minima_divide_y_venceras_recursiva(puntos):\n",
        "    n = len(puntos)\n",
        "    if n <= 3:\n",
        "        return distancia_minima_fuerza_bruta(puntos)\n",
        "\n",
        "    medio = n // 2\n",
        "    punto_medio = puntos[medio]\n",
        "\n",
        "    izquierda = puntos[:medio]\n",
        "    derecha = puntos[medio:]\n",
        "\n",
        "    distancia_izquierda, par_izquierda = distancia_minima_divide_y_venceras_recursiva(izquierda)\n",
        "    distancia_derecha, par_derecha = distancia_minima_divide_y_venceras_recursiva(derecha)\n",
        "\n",
        "    distancia_minima = min(distancia_izquierda, distancia_derecha)\n",
        "    par_minimo = par_izquierda if distancia_minima == distancia_izquierda else par_derecha\n",
        "\n",
        "    franja_central = [punto for punto in puntos if abs(punto[0] - punto_medio[0]) < distancia_minima]\n",
        "    distancia_franja, par_franja = distancia_minima_franja(franja_central, distancia_minima)\n",
        "\n",
        "    if distancia_franja < distancia_minima:\n",
        "        return distancia_franja, par_franja\n",
        "    else:\n",
        "        return distancia_minima, par_minimo\n",
        "\n",
        "def distancia_minima_franja(franja_central, distancia_minima):\n",
        "    franja_central.sort(key=lambda x: x[1])\n",
        "    n = len(franja_central)\n",
        "    minima_distancia = distancia_minima\n",
        "    par_minimo = None\n",
        "\n",
        "    for i in range(n):\n",
        "        for j in range(i+1, min(i+8, n)):\n",
        "            if abs(franja_central[j][1] - franja_central[i][1]) < minima_distancia:\n",
        "                dist = distancia(franja_central[i], franja_central[j])\n",
        "                if dist < minima_distancia:\n",
        "                    minima_distancia = dist\n",
        "                    par_minimo = (franja_central[i], franja_central[j])\n",
        "\n",
        "    return minima_distancia, par_minimo\n",
        "\n",
        "def distancia_minima_fuerza_bruta(puntos):\n",
        "    minima_distancia = float('inf')\n",
        "    n = len(puntos)\n",
        "    par_minimo = None\n",
        "\n",
        "    for i in range(n):\n",
        "        for j in range(i+1, n):\n",
        "            dist = distancia(puntos[i], puntos[j])\n",
        "            if dist < minima_distancia:\n",
        "                minima_distancia = dist\n",
        "                par_minimo = (puntos[i], puntos[j])\n",
        "\n",
        "    return minima_distancia, par_minimo\n",
        "\n",
        "puntos = [(random.randrange(1, 10000), random.randrange(1, 10000)) for x in range(100)]\n",
        "distancia_minima, par_puntos = distancia_minima_divide_y_venceras(puntos)\n",
        "print(f\"Distancia mínima entre dos puntos: {distancia_minima:.2f}\")\n",
        "print(\"Los dos puntos más cercanos son:\", par_puntos)"
      ],
      "metadata": {
        "colab": {
          "base_uri": "https://localhost:8080/"
        },
        "id": "T5Hl3bks2-a1",
        "outputId": "7931c4b5-d993-4f59-a292-5d3a7e567104"
      },
      "execution_count": 44,
      "outputs": [
        {
          "output_type": "stream",
          "name": "stdout",
          "text": [
            "Distancia mínima entre dos puntos: 70.52\n",
            "Los dos puntos más cercanos son: ((7179, 9299), (7201, 9366))\n"
          ]
        }
      ]
    },
    {
      "cell_type": "code",
      "source": [
        "# Lista de números 3D - Divide y vencerás\n",
        "\n",
        "import math\n",
        "import random\n",
        "\n",
        "def distancia(p1, p2):\n",
        "    return math.sqrt((p1[0] - p2[0])**2 + (p1[1] - p2[1])**2 + (p1[2] - p2[2])**2)\n",
        "\n",
        "def distancia_minima_divide_y_venceras(puntos):\n",
        "    puntos_ordenados_x = sorted(puntos, key=lambda x: x[0])\n",
        "    return distancia_minima_divide_y_venceras_recursiva(puntos_ordenados_x)\n",
        "\n",
        "def distancia_minima_divide_y_venceras_recursiva(puntos):\n",
        "    n = len(puntos)\n",
        "    if n <= 3:\n",
        "        return distancia_minima_fuerza_bruta(puntos)\n",
        "\n",
        "    medio = n // 2\n",
        "    punto_medio = puntos[medio]\n",
        "\n",
        "    izquierda = puntos[:medio]\n",
        "    derecha = puntos[medio:]\n",
        "\n",
        "    distancia_izquierda, par_izquierda = distancia_minima_divide_y_venceras_recursiva(izquierda)\n",
        "    distancia_derecha, par_derecha = distancia_minima_divide_y_venceras_recursiva(derecha)\n",
        "\n",
        "    distancia_minima = min(distancia_izquierda, distancia_derecha)\n",
        "    par_minimo = par_izquierda if distancia_minima == distancia_izquierda else par_derecha\n",
        "\n",
        "    franja_central = [punto for punto in puntos if abs(punto[0] - punto_medio[0]) < distancia_minima]\n",
        "    distancia_franja, par_franja = distancia_minima_franja(franja_central, distancia_minima)\n",
        "\n",
        "    if distancia_franja < distancia_minima:\n",
        "        return distancia_franja, par_franja\n",
        "    else:\n",
        "        return distancia_minima, par_minimo\n",
        "\n",
        "def distancia_minima_franja(franja_central, distancia_minima):\n",
        "    franja_central.sort(key=lambda x: x[1])\n",
        "    n = len(franja_central)\n",
        "    minima_distancia = distancia_minima\n",
        "    par_minimo = None\n",
        "\n",
        "    for i in range(n):\n",
        "        for j in range(i+1, min(i+8, n)):\n",
        "            if abs(franja_central[j][1] - franja_central[i][1]) < minima_distancia:\n",
        "                dist = distancia(franja_central[i], franja_central[j])\n",
        "                if dist < minima_distancia:\n",
        "                    minima_distancia = dist\n",
        "                    par_minimo = (franja_central[i], franja_central[j])\n",
        "\n",
        "    return minima_distancia, par_minimo\n",
        "\n",
        "def distancia_minima_fuerza_bruta(puntos):\n",
        "    minima_distancia = float('inf')\n",
        "    n = len(puntos)\n",
        "    par_minimo = None\n",
        "\n",
        "    for i in range(n):\n",
        "        for j in range(i+1, n):\n",
        "            dist = distancia(puntos[i], puntos[j])\n",
        "            if dist < minima_distancia:\n",
        "                minima_distancia = dist\n",
        "                par_minimo = (puntos[i], puntos[j])\n",
        "\n",
        "    return minima_distancia, par_minimo\n",
        "\n",
        "puntos = [(random.randrange(1, 10000), random.randrange(1, 10000), random.randrange(1, 10000)) for x in range(100)]\n",
        "distancia_minima, par_puntos = distancia_minima_divide_y_venceras(puntos)\n",
        "print(f\"Distancia mínima entre dos puntos: {distancia_minima:.2f}\")\n",
        "print(\"Los dos puntos más cercanos son:\", par_puntos)\n"
      ],
      "metadata": {
        "colab": {
          "base_uri": "https://localhost:8080/"
        },
        "id": "ECoqt3LpUYjc",
        "outputId": "697281c9-5d95-452c-9eea-a9c2dd7807a2"
      },
      "execution_count": 46,
      "outputs": [
        {
          "output_type": "stream",
          "name": "stdout",
          "text": [
            "Distancia mínima entre dos puntos: 146.40\n",
            "Los dos puntos más cercanos son: ((3430, 1186, 5541), (3455, 1311, 5613))\n"
          ]
        }
      ]
    }
  ]
}