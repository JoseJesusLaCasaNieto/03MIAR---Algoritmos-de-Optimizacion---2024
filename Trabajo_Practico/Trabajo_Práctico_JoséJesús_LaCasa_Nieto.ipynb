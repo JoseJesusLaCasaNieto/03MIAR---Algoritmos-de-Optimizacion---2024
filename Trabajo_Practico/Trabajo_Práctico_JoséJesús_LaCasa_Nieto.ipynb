{
  "cells": [
    {
      "cell_type": "markdown",
      "metadata": {
        "id": "hVbXYX-RfPWh"
      },
      "source": [
        "# Algoritmos de optimización - Trabajo Práctico<br>\n",
        "\n",
        "Nombre y Apellidos: José Jesús La Casa Nieto  <br>\n",
        "Url: https://github.com/JoseJesusLaCasaNieto/03MIAR---Algoritmos-de-Optimizacion---2024/tree/main/Trabajo_Practico <br>\n",
        "Google Colab: https://colab.research.google.com/drive/1U9wUobh8NYpL9eRDLN_GsSY71oOCQUVC?usp=sharing <br>\n",
        "\n",
        "Problema:\n",
        ">1. Sesiones de doblaje <br>\n",
        ">2. Organizar los horarios de partidos de La Liga<br>\n",
        ">3. Configuración de Tribunales\n",
        "\n",
        "Descripción del problema:(copiar enunciado)\n",
        "\n",
        "....\n",
        "\n",
        "\n",
        "\n",
        "\n",
        "\n",
        "\n",
        "\n",
        "                                        "
      ]
    },
    {
      "cell_type": "markdown",
      "metadata": {
        "id": "Sbo9IqQtpaHZ"
      },
      "source": [
        "#Modelo\n",
        "- ¿Como represento el espacio de soluciones?\n",
        "- ¿Cual es la función objetivo?\n",
        "- ¿Como implemento las restricciones?"
      ]
    },
    {
      "cell_type": "markdown",
      "metadata": {
        "id": "67p_vszBposu"
      },
      "source": []
    },
    {
      "cell_type": "code",
      "execution_count": null,
      "metadata": {
        "id": "AiskKkzZfy4e"
      },
      "outputs": [],
      "source": [
        "#Respuesta\n"
      ]
    },
    {
      "cell_type": "markdown",
      "metadata": {
        "id": "HZz52wOppp-U"
      },
      "source": [
        "#Análisis\n",
        "- ¿Que complejidad tiene el problema?. Orden de complejidad y Contabilizar el espacio de soluciones"
      ]
    },
    {
      "cell_type": "code",
      "execution_count": null,
      "metadata": {
        "id": "CZ-5BmpspttV"
      },
      "outputs": [],
      "source": [
        "#Respuesta\n"
      ]
    },
    {
      "cell_type": "markdown",
      "metadata": {
        "id": "ixEJUwH_pv7M"
      },
      "source": [
        "#Diseño\n",
        "- ¿Que técnica utilizo? ¿Por qué?"
      ]
    },
    {
      "cell_type": "markdown",
      "metadata": {
        "id": "qvygIi_IQZi4"
      },
      "source": [
        "Algoritmo de Fuerza Bruta"
      ]
    },
    {
      "cell_type": "code",
      "execution_count": 116,
      "metadata": {
        "colab": {
          "base_uri": "https://localhost:8080/"
        },
        "id": "k6XNqypEVqic",
        "outputId": "aa48797b-3505-454f-c15b-e235b3583114"
      },
      "outputs": [
        {
          "name": "stdout",
          "output_type": "stream",
          "text": [
            "Jornada generada aleatoriamente:\n",
            "[['Levante', 'Sevilla'], ['Betis', 'Getafe'], ['Alavés', 'Celta'], ['Valladolid', 'Eibar'], ['Real Sociedad', 'Osasuna'], ['Real Madrid', 'Atlético de Madrid'], ['Espanyol', 'Granada'], ['Athletic Club', 'Valencia'], ['Barcelona', 'Mallorca'], ['Leganés', 'Villarreal']]\n",
            "\n",
            "Jornada anterior por categorías de equipos:\n",
            "[['B', 'B'], ['B', 'B'], ['B', 'B'], ['C', 'C'], ['B', 'C'], ['A', 'A'], ['B', 'C'], ['B', 'B'], ['A', 'C'], ['C', 'B']]\n",
            "\n",
            "Jornada diccionario:\n",
            "{('Levante', 'Sevilla'): ['B', 'B'], ('Betis', 'Getafe'): ['B', 'B'], ('Alavés', 'Celta'): ['B', 'B'], ('Valladolid', 'Eibar'): ['C', 'C'], ('Real Sociedad', 'Osasuna'): ['B', 'C'], ('Real Madrid', 'Atlético de Madrid'): ['A', 'A'], ('Espanyol', 'Granada'): ['B', 'C'], ('Athletic Club', 'Valencia'): ['B', 'B'], ('Barcelona', 'Mallorca'): ['A', 'C'], ('Leganés', 'Villarreal'): ['C', 'B']}\n",
            "\n",
            "Resultado:\n",
            "{('Valladolid', 'Eibar'): 0.188, ('Real Sociedad', 'Osasuna'): 0.41250000000000003, ('Levante', 'Sevilla'): 0.63, ('Betis', 'Getafe'): 0.7200000000000001, ('Real Madrid', 'Atlético de Madrid'): 2, ('Espanyol', 'Granada'): 0.3375, ('Alavés', 'Celta'): 0.675, ('Athletic Club', 'Valencia'): 0.765, ('Barcelona', 'Mallorca'): 1, ('Leganés', 'Villarreal'): 0.30000000000000004}\n",
            "7.028\n",
            "\n",
            "Tiempo transcurrido: 4.03 segundos\n"
          ]
        }
      ],
      "source": [
        "from itertools import permutations\n",
        "import random\n",
        "import time\n",
        "\n",
        "def algoritmo_fuerza_bruta(jornada, audiencia_por_partido, reduccion_por_horario):\n",
        "    jornada_espectadores = {}\n",
        "    for partido, partido_categorias in jornada.items():\n",
        "       partido_categorias = tuple(partido_categorias)\n",
        "       if partido_categorias in audiencia_por_partido:\n",
        "          jornada_espectadores[partido] = audiencia_por_partido[partido_categorias]\n",
        "\n",
        "    partidos = list(jornada_espectadores.keys())\n",
        "    permutaciones_partidos = permutations(partidos)\n",
        "\n",
        "    resultado = {}\n",
        "    mejor_resultado = 0\n",
        "    for horario in permutaciones_partidos:\n",
        "      resultado_jornada = {}\n",
        "      for partido, (horario_partido, reduccion) in zip(horario, reduccion_por_horario.items()):\n",
        "        resultado_jornada[partido] = jornada_espectadores[partido] * reduccion\n",
        "      \n",
        "      if sum(resultado_jornada.values()) > mejor_resultado:\n",
        "        mejor_resultado = sum(resultado_jornada.values())\n",
        "        resultado = resultado_jornada\n",
        "    \n",
        "    return resultado\n",
        "\n",
        "def generar_jornada(equipos_por_categoria, numero_partidos=10):\n",
        "    todos_los_equipos = []\n",
        "    for equipos in equipos_por_categoria.values():\n",
        "      todos_los_equipos.extend(equipos)\n",
        "    jornada = []\n",
        "    while len(todos_los_equipos) > 0:\n",
        "      equipo_1 = random.choice(todos_los_equipos)\n",
        "      todos_los_equipos.remove(equipo_1)\n",
        "      equipo_2 = random.choice(todos_los_equipos)\n",
        "      todos_los_equipos.remove(equipo_2)\n",
        "      jornada.append([equipo_1, equipo_2])\n",
        "    return jornada\n",
        "\n",
        "def generar_categorias(jornada, dct):\n",
        "    def categoria(equipo):\n",
        "      for categoria, equipos in dct.items():\n",
        "        if equipo in equipos:\n",
        "          return categoria\n",
        "      return None\n",
        "\n",
        "    jornada_por_categoria = []\n",
        "    for partido in jornada:\n",
        "      partido_categoria = [categoria(equipo) for equipo in partido]\n",
        "      jornada_por_categoria.append(partido_categoria)\n",
        "    return jornada_por_categoria\n",
        "\n",
        "inicio = time.time()\n",
        "\n",
        "equipos_por_categoria = {\n",
        "    \"A\": [\"Real Madrid\", \"Barcelona\", \"Atlético de Madrid\"],\n",
        "    \"B\": [\"Real Sociedad\", \"Celta\", \"Valencia\", \"Athletic Club\", \"Villarreal\", \"Alavés\", \"Levante\", \"Espanyol\", \"Sevilla\", \"Betis\", \"Getafe\"],\n",
        "    \"C\": [\"Mallorca\", \"Eibar\", \"Leganés\", \"Osasuna\", \"Granada\", \"Valladolid\"]\n",
        "}\n",
        "\n",
        "audiencia_por_partido = {\n",
        "    (\"A\", \"A\"): 2,\n",
        "    (\"A\", \"B\"): 1.3,\n",
        "    (\"A\", \"C\"): 1,\n",
        "    (\"B\", \"A\"): 1.3,\n",
        "    (\"B\", \"B\"): 0.9,\n",
        "    (\"B\", \"C\"): 0.75,\n",
        "    (\"C\", \"A\"): 1,\n",
        "    (\"C\", \"B\"): 0.75,\n",
        "    (\"C\", \"C\"): 0.47\n",
        "}\n",
        "\n",
        "reduccion_por_horario = {\n",
        "    \"V20\": 0.4,\n",
        "    \"S12\": 0.55,\n",
        "    \"S16\": 0.7,\n",
        "    \"S18\": 0.8,\n",
        "    \"S20\": 1,\n",
        "    \"D12\": 0.45,\n",
        "    \"D16\": 0.75,\n",
        "    \"D18\": 0.85,\n",
        "    \"D20\": 1,\n",
        "    \"L20\": 0.4\n",
        "}\n",
        "\n",
        "jornada = generar_jornada(equipos_por_categoria)\n",
        "print(\"Jornada generada aleatoriamente:\\n{}\".format(jornada))\n",
        "\n",
        "jornada_por_categorias = generar_categorias(jornada, equipos_por_categoria)\n",
        "print(\"\\nJornada anterior por categorías de equipos:\\n{}\".format(jornada_por_categorias))\n",
        "\n",
        "jornada_diccionario = {tuple(equipo): categoria for equipo, categoria in zip(jornada, jornada_por_categorias)}\n",
        "print(\"\\nJornada diccionario:\\n{}\".format(jornada_diccionario))\n",
        "\n",
        "resultado = algoritmo_fuerza_bruta(jornada_diccionario, audiencia_por_partido, reduccion_por_horario)\n",
        "print(\"\\nResultado:\\n{}\".format(resultado))\n",
        "print(sum(resultado.values()))\n",
        "\n",
        "fin = time.time()\n",
        "\n",
        "tiempo_transcurrido = fin - inicio\n",
        "print(\"\\nTiempo transcurrido:\", round(tiempo_transcurrido, 2), \"segundos\")"
      ]
    },
    {
      "cell_type": "markdown",
      "metadata": {
        "id": "vFtyYYIqVrqW"
      },
      "source": [
        "Algoritmo Voraz"
      ]
    },
    {
      "cell_type": "code",
      "execution_count": 4,
      "metadata": {
        "colab": {
          "base_uri": "https://localhost:8080/"
        },
        "id": "ZdKPjB9gp2BA",
        "outputId": "fe6a050a-cf17-4f02-efd0-b073c11ddf37"
      },
      "outputs": [
        {
          "name": "stdout",
          "output_type": "stream",
          "text": [
            "Asignación de partidos a horarios:\n",
            "Viernes: \n",
            "Sábado: A vs A, A vs A, A vs A, B vs B\n",
            "Domingo: A vs A, A vs A, A vs A, B vs B\n",
            "Lunes: \n",
            "Audiencia total: 0.0 millones\n"
          ]
        }
      ],
      "source": [
        "# Definir los datos del problema\n",
        "equipos_por_categoría = {\n",
        "    \"A\": [\"Real Madrid\", \"Barcelona\", \"Atlético de Madrid\"],\n",
        "    \"B\": [\"Real Sociedad\", \"Celta\", \"Valencia\", \"Athletic Club\", \"Villarreal\", \"Alavés\", \"Levante\", \"Espanyol\", \"Sevilla\", \"Betis\", \"Getafe\"],\n",
        "    \"C\": [\"Mallorca\", \"Eibar\", \"Leganés\", \"Osasuna\", \"Granada\", \"Valladolid\"]\n",
        "}\n",
        "\n",
        "audiencia_por_partido = {\n",
        "    [\"A\", \"A\"]: 2,\n",
        "    [\"A\", \"B\"]: 1.3,\n",
        "    [\"A\", \"C\"]: 1,\n",
        "    [\"B\", \"B\"]: 0.9,\n",
        "    [\"B\", \"C\"]: 0.75,\n",
        "    [\"C\", \"C\"]: 0.47\n",
        "}\n",
        "\n",
        "reduccion_por_horario = {\n",
        "    \"Viernes 20\": 0.4,\n",
        "    \"Sábado 12\": 0.55,\n",
        "    \"Sábado 16\": 0.7,\n",
        "    \"Sábado 18\": 0.8,\n",
        "    \"Sábado 20\": 1,\n",
        "    \"Domingo 12\": 0.45,\n",
        "    \"Domingo 16\": 0.75,\n",
        "    \"Domingo 18\": 0.85,\n",
        "    \"Domingo 20\": 1,\n",
        "    \"Lunes 20\": 0.4\n",
        "}\n",
        "\n",
        "ponderacion_por_coincidencias = {\n",
        "    0: 1,\n",
        "    1: 0.75,\n",
        "    2: 0.55,\n",
        "    3: 0.4,\n",
        "    4: 0.3,\n",
        "    5: 0.25,\n",
        "    6: 0.22,\n",
        "    7: 0.2,\n",
        "    8: 0.2\n",
        "}\n",
        "\n",
        "# Función para calcular la audiencia total de una asignación de partidos a horarios\n",
        "def calcular_audiencia_total(asignacion):\n",
        "    audiencia_total = 0\n",
        "    coincidencias = {}\n",
        "\n",
        "    for dia, partidos in asignacion.items():\n",
        "        for partido in partidos:\n",
        "            for otro_partido in partidos:\n",
        "                if partido != otro_partido:\n",
        "                    coincidencias[(partido, otro_partido)] = coincidencias.get((partido, otro_partido), 0) + 1\n",
        "\n",
        "    for dia, partidos in asignacion.items():\n",
        "        for partido in partidos:\n",
        "            for otro_partido in partidos:\n",
        "                if partido != otro_partido:\n",
        "                    coincidencia = coincidencias.get((partido, otro_partido), 0)\n",
        "                    reduccion = reduccion_por_coincidencias.get(coincidencia, 0)\n",
        "                    audiencia_total += audiencia_por_partido.get((partido[0], otro_partido[0]), 0) * (1 - reduccion)\n",
        "                    audiencia_total += audiencia_por_partido.get((otro_partido[0], partido[0]), 0) * (1 - reduccion)\n",
        "\n",
        "    for dia, partidos in asignacion.items():\n",
        "        for partido in partidos:\n",
        "            horario = f\"{dia} {partido[1]}\"\n",
        "            reduccion_horario = reduccion_por_horario.get(horario, 0)\n",
        "            audiencia_total -= audiencia_total * reduccion_horario\n",
        "\n",
        "    return audiencia_total\n",
        "\n",
        "# Función para asignar los partidos a los horarios de forma voraz\n",
        "def asignar_horarios():\n",
        "    asignacion = {\n",
        "        \"Viernes\": [(\"Viernes\", 20, None)],\n",
        "        \"Sábado\": [],\n",
        "        \"Domingo\": [],\n",
        "        \"Lunes\": [(\"Lunes\", 20, None)]\n",
        "    }\n",
        "\n",
        "    equipos = [\"A\"] * 3 + [\"B\"] * 11 + [\"C\"] * 6\n",
        "\n",
        "    for equipo in equipos:\n",
        "        horarios_ordenados = sorted(horarios_disponibles.items(), key=lambda x: len(x[1]))\n",
        "        for dia, horarios in horarios_ordenados:\n",
        "            for horario in horarios:\n",
        "                if horario not in [partido[1] for partido in asignacion[dia]]:\n",
        "                    asignacion[dia].append((dia, horario, equipo))\n",
        "                    break\n",
        "\n",
        "    return asignacion\n",
        "\n",
        "# Obtener la asignación de partidos a horarios\n",
        "asignacion = asignar_horarios()\n",
        "\n",
        "# Calcular la audiencia total de la asignación\n",
        "audiencia_total = calcular_audiencia_total(asignacion)\n",
        "\n",
        "# Imprimir la asignación de partidos y la audiencia total\n",
        "print(\"Asignación de partidos a horarios:\")\n",
        "for dia, partidos in asignacion.items():\n",
        "    print(f\"{dia}: {', '.join([f'{partido[2]} vs {partido[2]}' for partido in partidos if partido[2] is not None])}\")\n",
        "print(f\"Audiencia total: {audiencia_total} millones\")\n"
      ]
    }
  ],
  "metadata": {
    "colab": {
      "provenance": []
    },
    "kernelspec": {
      "display_name": "Python 3",
      "name": "python3"
    },
    "language_info": {
      "codemirror_mode": {
        "name": "ipython",
        "version": 3
      },
      "file_extension": ".py",
      "mimetype": "text/x-python",
      "name": "python",
      "nbconvert_exporter": "python",
      "pygments_lexer": "ipython3",
      "version": "3.11.6"
    }
  },
  "nbformat": 4,
  "nbformat_minor": 0
}
